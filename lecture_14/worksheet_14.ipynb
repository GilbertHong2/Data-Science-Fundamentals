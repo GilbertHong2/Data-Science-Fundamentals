{
 "cells": [
  {
   "attachments": {},
   "cell_type": "markdown",
   "metadata": {},
   "source": [
    "# Worksheet 14\n",
    "\n",
    "Name:  Wanchen Hong\n",
    "UID: U72264072\n",
    "\n",
    "### Topics\n",
    "\n",
    "- Naive Bayes\n",
    "- Model Evaluation\n",
    "\n",
    "### Naive Bayes\n",
    "\n",
    "| Attribute A | Attribute B | Attribute C | Class |\n",
    "|-------------|-------------|-------------|-------|\n",
    "| Yes         | Single      | High        | No    |\n",
    "| No          | Married     | Mid         | No    |\n",
    "| No          | Single      | Low         | No    |\n",
    "| Yes         | Married     | High        | No    |\n",
    "| No          | Divorced    | Mid         | Yes   |\n",
    "| No          | Married     | Low         | No    |\n",
    "| Yes         | Divorced    | High        | No    |\n",
    "| No          | Single      | Mid         | Yes   |\n",
    "| No          | Married     | Low         | No    |\n",
    "| No          | Single      | Mid         | Yes   |\n",
    "\n",
    "a) Compute the following probabilities:\n",
    "\n",
    "- P(Attribute A = Yes | Class = No)\n",
    "- P(Attribute B = Divorced | Class = Yes)\n",
    "- P(Attribute C = High | Class = No)\n",
    "- P(Attribute C = Mid | Class = Yes)"
   ]
  },
  {
   "cell_type": "markdown",
   "metadata": {},
   "source": [
    "1. 3/7  2. 1/3  3. 3/7  4. 1"
   ]
  },
  {
   "cell_type": "markdown",
   "metadata": {},
   "source": [
    "b) Classify the following unseen records:\n",
    "\n",
    "- (Yes, Married, Mid)\n",
    "- (No, Divorced, High)\n",
    "- (No, Single, High)\n",
    "- (No, Divorced, Low)"
   ]
  },
  {
   "cell_type": "markdown",
   "metadata": {},
   "source": [
    "1. P(Yes|Yes)P(Married|Yes)P(Mid|Yes) = 0*P(Married|Yes)*1 = 0, P(Yes|No)P(Married|No)P(Mid|No) = (3/7)(4/7)(1/7) > 0, so it is a NO\n",
    "\n",
    "2. P(No|Yes)P(Divorced|Yes)P(High|Yes) = 1*(1/3)*0 = 0, P(No|No)P(Divorced|No)P(High|No) = (4/7)(1/7)(3/7) > 0, so it is NO again\n",
    "\n",
    "3. P(No|Yes)P(Single|Yes)P(High|Yes) = P(No|Yes)P(Single|Yes)*0 = 0, P(No|No)P(Single|No)P(High|No) = (4/7)(2/7)(3/7) > 0, so it is NO again\n",
    "\n",
    "4. P(No|Yes)P(Divorced|Yes)P(Low|Yes) = 1*(1/3)*0 = 0, P(No|No)P(Divorced|No)P(Low|No) = (4/7)(1/7)(3/7) > 0, so it is also NO"
   ]
  },
  {
   "cell_type": "markdown",
   "metadata": {},
   "source": [
    "### Model Evaluation\n",
    "\n",
    "a) Write a function to generate the confusion matrix for a list of actual classes and a list of predicted classes"
   ]
  },
  {
   "cell_type": "code",
   "execution_count": 2,
   "metadata": {},
   "outputs": [
    {
     "name": "stdout",
     "output_type": "stream",
     "text": [
      "{'TP': 2, 'FN': 1, 'FP': 3, 'TN': 4}\n"
     ]
    }
   ],
   "source": [
    "actual_class = [\"Yes\", \"No\", \"No\", \"Yes\", \"No\", \"No\", \"Yes\", \"No\", \"No\", \"No\"]\n",
    "predicted_class = [\"Yes\", \"No\", \"Yes\", \"No\", \"No\", \"No\", \"Yes\", \"Yes\", \"Yes\", \"No\"]\n",
    "\n",
    "def confusion_matrix(actual, predicted):\n",
    "    matrix = {\"TP\": 0, \"FN\": 0, \"FP\": 0, \"TN\": 0}\n",
    "    for i in range(len(actual)):\n",
    "        if actual[i] == \"Yes\" and predicted[i] == \"Yes\":\n",
    "            matrix[\"TP\"] += 1\n",
    "        elif actual[i] == \"No\" and predicted[i] == \"No\":\n",
    "            matrix[\"TN\"] += 1\n",
    "        elif actual[i] == \"No\" and predicted[i] == \"Yes\":\n",
    "            matrix[\"FP\"] += 1\n",
    "        elif actual[i] == \"Yes\" and predicted[i] == \"No\":\n",
    "            matrix[\"FN\"] += 1\n",
    "    return matrix\n",
    "\n",
    "print(confusion_matrix(actual_class, predicted_class))"
   ]
  },
  {
   "cell_type": "markdown",
   "metadata": {},
   "source": [
    "b) Assume you have the following Cost Matrix:\n",
    "\n",
    "|            | predicted = Y | predicted = N |\n",
    "|------------|---------------|---------------|\n",
    "| actual = Y |       -1      |       5       |\n",
    "| actual = N |        10     |       0       |\n",
    "\n",
    "What is the cost of the above classification?"
   ]
  },
  {
   "cell_type": "markdown",
   "metadata": {},
   "source": [
    "(-1)(2) + (5)(1) + (3)(10) = 33"
   ]
  },
  {
   "cell_type": "markdown",
   "metadata": {},
   "source": [
    "c) Write a function that takes in the actual values, the predictions, and a cost matrix and outputs a cost. Test it on the above example."
   ]
  },
  {
   "cell_type": "code",
   "execution_count": 3,
   "metadata": {},
   "outputs": [
    {
     "data": {
      "text/plain": [
       "33"
      ]
     },
     "execution_count": 3,
     "metadata": {},
     "output_type": "execute_result"
    }
   ],
   "source": [
    "def calculate_cost(actual, predicted, cost):\n",
    "    matrix = confusion_matrix(actual, predicted)\n",
    "    return matrix[\"FN\"] * cost[\"FN\"] + matrix[\"FP\"] * cost[\"FP\"] + matrix[\"TN\"] * cost[\"TN\"] + matrix[\"TP\"] * cost[\"TP\"]\n",
    "\n",
    "cost = {'TP': -1, 'FN': 5, 'FP': 10, 'TN': 0}\n",
    "\n",
    "calculate_cost(actual_class, predicted_class, cost)"
   ]
  },
  {
   "cell_type": "markdown",
   "metadata": {},
   "source": [
    "d) Implement functions for the following:\n",
    "\n",
    "- accuracy\n",
    "- precision\n",
    "- recall\n",
    "- f-measure\n",
    "\n",
    "and apply them to the above example."
   ]
  },
  {
   "cell_type": "code",
   "execution_count": 4,
   "metadata": {},
   "outputs": [
    {
     "data": {
      "text/plain": [
       "0.5"
      ]
     },
     "execution_count": 4,
     "metadata": {},
     "output_type": "execute_result"
    }
   ],
   "source": [
    "def accuracy(actual, predicted):\n",
    "    matrix = confusion_matrix(actual, predicted)\n",
    "    return (matrix[\"TP\"] + matrix[\"TN\"]) / (matrix[\"TP\"] + matrix[\"TN\"] + matrix[\"FP\"] + matrix[\"FN\"])\n",
    "\n",
    "def precision(actual, predicted):\n",
    "    matrix = confusion_matrix(actual, predicted)\n",
    "    return matrix[\"TP\"] / (matrix[\"TP\"] + matrix[\"FP\"])\n",
    "\n",
    "def recall(actual, predicted):\n",
    "    matrix = confusion_matrix(actual, predicted)\n",
    "    return matrix[\"TP\"] / (matrix[\"TP\"] + matrix[\"FN\"])\n",
    "\n",
    "def f_measure(actual, predicted):\n",
    "    prec = precision(actual, predicted)\n",
    "    rec = recall(actual, predicted)\n",
    "    return (2 * prec * rec) / (prec + rec) if (prec + rec) > 0 else 0\n",
    "\n",
    "print(accuracy(actual_class, predicted_class))\n",
    "print(precision(actual_class, predicted_class))\n",
    "print(recall(actual_class, predicted_class))\n",
    "print(f_measure(actual_class, predicted_class))"
   ]
  }
 ],
 "metadata": {
  "kernelspec": {
   "display_name": "Python 3",
   "language": "python",
   "name": "python3"
  },
  "language_info": {
   "codemirror_mode": {
    "name": "ipython",
    "version": 3
   },
   "file_extension": ".py",
   "mimetype": "text/x-python",
   "name": "python",
   "nbconvert_exporter": "python",
   "pygments_lexer": "ipython3",
   "version": "3.11.4"
  },
  "orig_nbformat": 4,
  "vscode": {
   "interpreter": {
    "hash": "e7370f93d1d0cde622a1f8e1c04877d8463912d04d973331ad4851f04de6915a"
   }
  }
 },
 "nbformat": 4,
 "nbformat_minor": 2
}
