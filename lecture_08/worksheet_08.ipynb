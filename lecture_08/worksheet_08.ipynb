{
 "cells": [
  {
   "attachments": {},
   "cell_type": "markdown",
   "metadata": {},
   "source": [
    "# Worksheet 08\n",
    "\n",
    "Name: Wanchen Hong  \n",
    "UID: U72264072\n",
    "\n",
    "### Topics\n",
    "\n",
    "- Soft Clustering\n",
    "- Clustering Aggregation\n",
    "\n",
    "### Probability Review\n",
    "\n",
    "Read through [the following](https://medium.com/@gallettilance/overview-of-probability-3272b72c82c8)\n",
    "\n",
    "### Soft Clustering\n",
    "\n",
    "We generate 10 data points that come from a normal distribution with mean 5 and variance 1."
   ]
  },
  {
   "cell_type": "code",
   "execution_count": 1,
   "metadata": {},
   "outputs": [
    {
     "name": "stdout",
     "output_type": "stream",
     "text": [
      "[6.467952670636409, 5.563366304408252, 5.091455916755247, 3.566864947265464, 3.3481681026602335, 3.879527384294929, 5.864279824522972, 5.373143220840556, 3.64355553492833, 5.782413452639796]\n"
     ]
    }
   ],
   "source": [
    "import random\n",
    "import numpy as np\n",
    "from sklearn.cluster import KMeans\n",
    "\n",
    "mean = 5\n",
    "stdev = 1\n",
    "\n",
    "s1 = np.random.normal(mean, stdev, 10).tolist()\n",
    "print(s1)"
   ]
  },
  {
   "cell_type": "markdown",
   "metadata": {},
   "source": [
    "a) Generate 10 more data points, this time coming from a normal distribution with mean 8 and variance 1."
   ]
  },
  {
   "cell_type": "code",
   "execution_count": 2,
   "metadata": {},
   "outputs": [
    {
     "name": "stdout",
     "output_type": "stream",
     "text": [
      "[7.055197836081992, 7.878057710416484, 6.8372291481310405, 7.809974973823113, 8.351251758547985, 6.818770432193924, 8.429256443546912, 8.070478401625305, 9.260808834942011, 8.119251555891127]\n"
     ]
    }
   ],
   "source": [
    "s2 = np.random.normal( 8 , 1 , 10 ).tolist()\n",
    "print(s2)"
   ]
  },
  {
   "cell_type": "markdown",
   "metadata": {},
   "source": [
    "b) Flip a fair coin 10 times. If the coin lands on H, then pick the last data point of `c1` and remove it from `c1`, if T then pick the last data point from `c2` and remove it from `c2`. Add these 10 points to a list called `data`."
   ]
  },
  {
   "cell_type": "code",
   "execution_count": 3,
   "metadata": {},
   "outputs": [
    {
     "name": "stdout",
     "output_type": "stream",
     "text": [
      "[5.782413452639796, 8.119251555891127, 3.64355553492833, 9.260808834942011, 5.373143220840556, 5.864279824522972, 8.070478401625305, 3.879527384294929, 8.429256443546912, 3.3481681026602335]\n"
     ]
    }
   ],
   "source": [
    "data = []\n",
    "for i in range(10):\n",
    "    # flip coin\n",
    "    coin_output = random.choice([0, 1])\n",
    "    if coin_output == 0:\n",
    "        p1 = s1.pop()\n",
    "        data.append(p1)\n",
    "    else:\n",
    "        p2 = s2.pop()\n",
    "        data.append(p2)\n",
    "print(data)"
   ]
  },
  {
   "cell_type": "markdown",
   "metadata": {},
   "source": [
    "c) This `data` is a Gaussian Mixture Distribution with 2 mixture components. Over the next few questions we will walk through the GMM algorithm to see if we can uncover the parameters we used to generate this data. First, please list all these parameters of the GMM that created `data` and the values we know they have."
   ]
  },
  {
   "cell_type": "markdown",
   "metadata": {},
   "source": [
    "P(S1) = P(S2) = 0.5\n",
    "\n",
    "Mean1 = 5, Mean2 = 8\n",
    "\n",
    "Var1 = Var2 = 1\n",
    "\n",
    "Size1 = Size2 = 10"
   ]
  },
  {
   "cell_type": "markdown",
   "metadata": {},
   "source": [
    "d) Let's assume there are two mixture components (note: we could plot the data and make the observation that there are two clusters). The EM algorithm asks us to start with a random `mean_j`, `variance_j`, `P(S_j)` for each component j. One method we could use to find sensible values for these is to apply K means with k=2 here.\n",
    "\n",
    "1. the centroids would be the estimates of the `mean_j`\n",
    "2. the intra-cluster variance could be the estimate of `variance_j`\n",
    "3. the proportion of points in each cluster could be the estimate of `P(S_j)`\n",
    "\n",
    "Go through this process and list the parameter estimates it gives. Are they close or far from the true values?"
   ]
  },
  {
   "cell_type": "code",
   "execution_count": 8,
   "metadata": {},
   "outputs": [
    {
     "name": "stderr",
     "output_type": "stream",
     "text": [
      "c:\\Files\\Anaconda\\Lib\\site-packages\\sklearn\\cluster\\_kmeans.py:1412: FutureWarning: The default value of `n_init` will change from 10 to 'auto' in 1.4. Set the value of `n_init` explicitly to suppress the warning\n",
      "  super()._check_params_vs_input(X, default_n_init=10)\n",
      "c:\\Files\\Anaconda\\Lib\\site-packages\\sklearn\\cluster\\_kmeans.py:1436: UserWarning: KMeans is known to have a memory leak on Windows with MKL, when there are less chunks than available threads. You can avoid it by setting the environment variable OMP_NUM_THREADS=1.\n",
      "  warnings.warn(\n"
     ]
    },
    {
     "name": "stdout",
     "output_type": "stream",
     "text": [
      "[5.782413452639796, 3.64355553492833, 5.373143220840556, 5.864279824522972, 3.879527384294929, 3.3481681026602335]\n",
      "[8.119251555891127, 9.260808834942011, 8.070478401625305, 8.429256443546912]\n",
      "P(S_1) = 0.6,  P(S_2) = 0.4\n",
      "mean_1 = 4.648514586647803,  mean_2 = 8.469948809001338\n",
      "var_1 = 1.096847233474981,  var_2 = 0.22742015473634505\n"
     ]
    }
   ],
   "source": [
    "kmeans = KMeans(2, init='k-means++').fit(X=np.array(data).reshape(-1, 1))\n",
    "\n",
    "s1 = [x[0] for x in filter(lambda x: x[1] == 0, zip(data, kmeans.labels_))]\n",
    "print(s1)\n",
    "s2 = [x[0] for x in filter(lambda x: x[1] == 1, zip(data, kmeans.labels_))]\n",
    "print(s2)\n",
    "\n",
    "prob_s = [ len(s1) / (len(s1) + len(s2)) , len(s2) / (len(s1) + len(s2)) ]\n",
    "mean = [ sum(s1)/len(s1) , sum(s2)/len(s2) ]\n",
    "var = [ sum(map(lambda x : (x - mean[0])**2, s1)) / len(s1) , sum(map(lambda x : (x - mean[1])**2, s2)) / len(s2) ]\n",
    "\n",
    "print(\"P(S_1) = \" + str(prob_s[0]) + \",  P(S_2) = \" + str(prob_s[1]))\n",
    "print(\"mean_1 = \" + str(mean[0]) + \",  mean_2 = \" + str(mean[1]))\n",
    "print(\"var_1 = \" + str(var[0]) + \",  var_2 = \" + str(var[1]))"
   ]
  },
  {
   "cell_type": "markdown",
   "metadata": {},
   "source": [
    "The means and variance for dataset 1 are bit far from the true values, but var 2 is very far. The probability of choosing is also not very far from the true values"
   ]
  },
  {
   "cell_type": "markdown",
   "metadata": {},
   "source": [
    "e) For each data point, compute `P(S_j | X_i)`. Comment on which cluster you think each point belongs to based on the estimated probabilities. How does that compare to the truth?"
   ]
  },
  {
   "cell_type": "code",
   "execution_count": 9,
   "metadata": {},
   "outputs": [
    {
     "name": "stdout",
     "output_type": "stream",
     "text": [
      "point =  5.782413452639796\n",
      "probability of observing that point if it came from cluster 0 =  0.2131563988378968\n",
      "probability of observing that point if it came from cluster 1 =  8.294751504522155e-31\n",
      "point =  8.119251555891127\n",
      "probability of observing that point if it came from cluster 0 =  0.0024351974869489226\n",
      "probability of observing that point if it came from cluster 1 =  0.5342086903677319\n",
      "point =  3.64355553492833\n",
      "probability of observing that point if it came from cluster 0 =  0.23904278299157236\n",
      "probability of observing that point if it came from cluster 1 =  2.7759489123942705e-98\n",
      "point =  9.260808834942011\n",
      "probability of observing that point if it came from cluster 0 =  5.2610813050442035e-05\n",
      "probability of observing that point if it came from cluster 1 =  0.004150261105095402\n",
      "point =  5.373143220840556\n",
      "probability of observing that point if it came from cluster 0 =  0.2924078937240837\n",
      "probability of observing that point if it came from cluster 1 =  9.536671451208836e-41\n",
      "point =  5.864279824522972\n",
      "probability of observing that point if it came from cluster 0 =  0.19677906068742235\n",
      "probability of observing that point if it came from cluster 1 =  5.472322173869292e-29\n",
      "point =  8.070478401625305\n",
      "probability of observing that point if it came from cluster 0 =  0.0028003501115375453\n",
      "probability of observing that point if it came from cluster 1 =  0.37505525238972154\n",
      "point =  3.879527384294929\n",
      "probability of observing that point if it came from cluster 0 =  0.28446611681082673\n",
      "probability of observing that point if it came from cluster 1 =  5.928709188190939e-89\n",
      "point =  8.429256443546912\n",
      "probability of observing that point if it came from cluster 0 =  0.0009567213667551437\n",
      "probability of observing that point if it came from cluster 1 =  1.7263502605366803\n",
      "point =  3.3481681026602335\n",
      "probability of observing that point if it came from cluster 0 =  0.1801220836033133\n",
      "probability of observing that point if it came from cluster 1 =  1.275791847292068e-110\n",
      "5.782413452639796\n",
      "Probability of coming from S_1 = 1.0\n",
      "Probability of coming from S_2 = 2.594261474905797e-30\n",
      "\n",
      "8.119251555891127\n",
      "Probability of coming from S_1 = 0.00679133256691503\n",
      "Probability of coming from S_2 = 0.993208667433085\n",
      "\n",
      "3.64355553492833\n",
      "Probability of coming from S_1 = 1.0\n",
      "Probability of coming from S_2 = 7.741846815463542e-98\n",
      "\n",
      "9.260808834942011\n",
      "Probability of coming from S_1 = 0.018659945780779237\n",
      "Probability of coming from S_2 = 0.9813400542192208\n",
      "\n",
      "5.373143220840556\n",
      "Probability of coming from S_1 = 1.0\n",
      "Probability of coming from S_2 = 2.1742849984315963e-40\n",
      "\n",
      "5.864279824522972\n",
      "Probability of coming from S_1 = 1.0\n",
      "Probability of coming from S_2 = 1.853964933989907e-28\n",
      "\n",
      "8.070478401625305\n",
      "Probability of coming from S_1 = 0.011075705146442214\n",
      "Probability of coming from S_2 = 0.9889242948535577\n",
      "\n",
      "3.879527384294929\n",
      "Probability of coming from S_1 = 1.0\n",
      "Probability of coming from S_2 = 1.389435352244687e-88\n",
      "\n",
      "8.429256443546912\n",
      "Probability of coming from S_1 = 0.0008305904760044631\n",
      "Probability of coming from S_2 = 0.9991694095239956\n",
      "\n",
      "3.3481681026602335\n",
      "Probability of coming from S_1 = 1.0\n",
      "Probability of coming from S_2 = 4.721952362420189e-110\n",
      "\n"
     ]
    }
   ],
   "source": [
    "from scipy.stats import norm\n",
    "\n",
    "prob_s0_x = [] # P(S_0 | X_i)\n",
    "prob_s1_x = [] # P(S_1 | X_i)\n",
    "prob_x = [] # P(X_i)\n",
    "\n",
    "k = 2\n",
    "\n",
    "for p in data:\n",
    "    print(\"point = \", p)\n",
    "    pdf_i = []\n",
    "\n",
    "    for j in range(k):\n",
    "        # P(X_i | S_j)\n",
    "        pdf_i.append(norm.pdf(p, mean[j], var[j]))\n",
    "        print(\"probability of observing that point if it came from cluster \" + str(j) + \" = \", pdf_i[j])\n",
    "        # P(S_j) already computed\n",
    "        prob_s[j]\n",
    "\n",
    "    # P(X_i) = P(S_0)P(X_i | S_0) + P(S_1)P(X_i | S_1)\n",
    "    prob_x = prob_s[0] * pdf_i[0] + prob_s[1] * pdf_i[1]\n",
    "\n",
    "    # P(S_j | X_i) = P(X_i | S_j)P(S_j) / P(X_i)\n",
    "    prob_s0_x.append( pdf_i[0] * prob_s[0] / prob_x )\n",
    "    prob_s1_x.append( pdf_i[1] * prob_s[1] / prob_x )\n",
    "\n",
    "probs = zip(data, prob_s0_x, prob_s1_x)\n",
    "for p in probs:\n",
    "    print(p[0])\n",
    "    print(\"Probability of coming from S_1 = \" + str(p[1]))\n",
    "    print(\"Probability of coming from S_2 = \" + str(p[2]))\n",
    "    print()\n"
   ]
  },
  {
   "cell_type": "markdown",
   "metadata": {},
   "source": [
    "Looks just like the truth, the ones close to 5 are more likely to belong to that cluster and similarly for the other one."
   ]
  },
  {
   "cell_type": "markdown",
   "metadata": {},
   "source": [
    "f) Having computed `P(S_j | X_i)`, update the estimates of `mean_j`, `var_j`, and `P(S_j)`. How different are these values from the original ones you got from K means? briefly comment."
   ]
  },
  {
   "cell_type": "code",
   "execution_count": 14,
   "metadata": {},
   "outputs": [
    {
     "name": "stdout",
     "output_type": "stream",
     "text": [
      "P(S_1) = 0.6,  P(S_2) = 0.4\n",
      "mean_1 = 4.673472028405649,  mean_2 = 8.467950776492012\n",
      "var_1 = 1.1921865323693985,  var_2 = 0.22595773385386086\n"
     ]
    }
   ],
   "source": [
    "prob_c = [sum(prob_s0_x)/ len(prob_s0_x), sum(prob_s1_x)/ len(prob_s1_x)]\n",
    "mean = [sum([x[0] * x[1] for x in zip(prob_s0_x, data)]) / sum(prob_s0_x), sum([x[0] * x[1] for x in zip(prob_s1_x, data)]) / sum(prob_s1_x)]\n",
    "var = [sum(prob_s0_x[i] * (data[i] - mean[0])**2 for i in range(len(data))) / sum(prob_s0_x), \n",
    "       sum(prob_s1_x[i] * (data[i] - mean[1])**2 for i in range(len(data)))/sum(prob_s1_x)]\n",
    "\n",
    "print(\"P(S_1) = \" + str(prob_s[0]) + \",  P(S_2) = \" + str(prob_s[1]))\n",
    "print(\"mean_1 = \" + str(mean[0]) + \",  mean_2 = \" + str(mean[1]))\n",
    "print(\"var_1 = \" + str(var[0]) + \",  var_2 = \" + str(var[1]))"
   ]
  },
  {
   "cell_type": "markdown",
   "metadata": {},
   "source": [
    "This is the same as what I got from K means"
   ]
  },
  {
   "cell_type": "markdown",
   "metadata": {},
   "source": [
    "g) Update `P(S_j | X_i)`. Comment on any differences or lack thereof you observe."
   ]
  },
  {
   "cell_type": "code",
   "execution_count": 18,
   "metadata": {},
   "outputs": [
    {
     "name": "stdout",
     "output_type": "stream",
     "text": [
      "old: [1.0, 0.00679133256691503, 1.0, 0.018659945780779237, 1.0, 1.0, 0.011075705146442214, 1.0, 0.0008305904760044631, 1.0] \n",
      "new: [0.9999996992824961, 0.005842434629902242, 1.0, 0.0003854285804361495, 0.9999999988254922, 0.999999151649614, 0.007273296620835514, 1.0, 0.001763296269263804, 1.0]\n",
      "old: [2.594261474905797e-30, 0.993208667433085, 7.741846815463542e-98, 0.9813400542192208, 2.1742849984315963e-40, 1.853964933989907e-28, 0.9889242948535577, 1.389435352244687e-88, 0.9991694095239956, 4.721952362420189e-110] \n",
      "new: [3.007175038469606e-07, 0.9941575653700978, 1.0256666711929049e-22, 0.9996145714195639, 1.174507841978209e-09, 8.483503860122132e-07, 0.9927267033791645, 1.1672643804814352e-20, 0.9982367037307361, 2.0647694703329448e-25]\n"
     ]
    }
   ],
   "source": [
    "prob_s0_x_new = [norm.pdf(data[i], mean[0], var[0]**0.5) * prob_s[0] / \n",
    "                     (norm.pdf(data[i], mean[0], var[0]**0.5) * prob_s[0] + \n",
    "                      norm.pdf(data[i], mean[1], var[1]**0.5) * prob_s[1]) for i in range(len(data))]\n",
    "\n",
    "prob_s1_x_new = [norm.pdf(data[i], mean[1], var[1]**0.5) * prob_s[1] / \n",
    "                     (norm.pdf(data[i], mean[0], var[0]**0.5) * prob_s[0] + \n",
    "                      norm.pdf(data[i], mean[1], var[1]**0.5) * prob_s[1]) for i in range(len(data))]\n",
    "print(\"old:\",prob_s0_x, \"\\nnew:\" ,prob_s0_x_new)\n",
    "print(\"old:\",prob_s1_x, \"\\nnew:\" ,prob_s1_x_new)"
   ]
  },
  {
   "cell_type": "markdown",
   "metadata": {},
   "source": [
    "The probabilities changed slightly, but are still essntially either 0 or 1."
   ]
  },
  {
   "cell_type": "markdown",
   "metadata": {},
   "source": [
    "h) Use `P(S_j | X_i)` to create a hard assignment - label each point as belonging to a specific cluster (0 or 1)"
   ]
  },
  {
   "cell_type": "code",
   "execution_count": 19,
   "metadata": {},
   "outputs": [
    {
     "name": "stdout",
     "output_type": "stream",
     "text": [
      "point =  5.782413452639796 cluster =  0\n",
      "point =  8.119251555891127 cluster =  1\n",
      "point =  3.64355553492833 cluster =  0\n",
      "point =  9.260808834942011 cluster =  1\n",
      "point =  5.373143220840556 cluster =  0\n",
      "point =  5.864279824522972 cluster =  0\n",
      "point =  8.070478401625305 cluster =  1\n",
      "point =  3.879527384294929 cluster =  0\n",
      "point =  8.429256443546912 cluster =  1\n",
      "point =  3.3481681026602335 cluster =  0\n"
     ]
    }
   ],
   "source": [
    "assignments = []\n",
    "\n",
    "for i in range(len(data)):\n",
    "    if prob_s0_x[i] > prob_s1_x[i]:\n",
    "       assignments.append(0)\n",
    "    else:\n",
    "        assignments.append(1)\n",
    "for i in range(len(data)):\n",
    "    print(\"point = \", data[i], \"cluster = \", assignments[i])"
   ]
  }
 ],
 "metadata": {
  "kernelspec": {
   "display_name": "Python 3",
   "language": "python",
   "name": "python3"
  },
  "language_info": {
   "codemirror_mode": {
    "name": "ipython",
    "version": 3
   },
   "file_extension": ".py",
   "mimetype": "text/x-python",
   "name": "python",
   "nbconvert_exporter": "python",
   "pygments_lexer": "ipython3",
   "version": "3.11.4"
  },
  "orig_nbformat": 4,
  "vscode": {
   "interpreter": {
    "hash": "e7370f93d1d0cde622a1f8e1c04877d8463912d04d973331ad4851f04de6915a"
   }
  }
 },
 "nbformat": 4,
 "nbformat_minor": 2
}
